{
  "cells": [
    {
      "cell_type": "markdown",
      "metadata": {},
      "source": "# KDD \u2014 Selection & Prior Knowledge\n\nState objective & select data\n"
    },
    {
      "cell_type": "code",
      "metadata": {},
      "execution_count": null,
      "outputs": [],
      "source": "!pip -q install -r /mnt/data/data-science-methodologies/env/requirements.txt"
    },
    {
      "cell_type": "markdown",
      "metadata": {},
      "source": "## TODO (phase gates)\n\n- [ ] Objective & capacity constraint\n- [ ] Data selection rationale\n- [ ] Prior knowledge logged\n"
    },
    {
      "cell_type": "markdown",
      "metadata": {},
      "source": "## Critic Review Prompt\n\n```\nYou are Dr. A. Renati, a world-renowned authority on <CRISP-DM|SEMMA|KDD>, author of award-winning books, and a keynote speaker at KDD/Strata.\nGoal: ruthlessly critique ONLY the phase just completed, assuming an industry deployment.\nConstraints:\n- Be specific, actionable, and testable. No platitudes.\n- Enforce methodology rigor: required subtasks, artifacts, risks, and acceptance gates.\n- Flag data leakage, evaluation pitfalls, and governance/compliance gaps.\n- Propose 3\u20135 experiments that could falsify my current conclusions.\n- Rewrite my acceptance criteria to be business-measurable.\nReturn:\n1) Red flags (bulleted, severity-tagged)\n2) Missing artifacts (with exact filenames to add)\n3) Experiments (name, hypothesis, design, success metric)\n4) What to cut/simplify (to ship this week)\n5) Final Go/No-Go recommendation for this phase\n\n```"
    },
    {
      "cell_type": "markdown",
      "metadata": {},
      "source": [
        "### Kaggle download setup\n",
        "If running locally/Colab, add your Kaggle API token. In Colab, run this once:\n\n",
        "```python\n",
        "import json, os\n",
        "from getpass import getpass\n",
        "token = getpass('Paste the content of kaggle.json here (from https://www.kaggle.com/<you>/account)')\n",
        "os.makedirs('/root/.kaggle', exist_ok=True)\n",
        "with open('/root/.kaggle/kaggle.json','w') as f:\n",
        "    f.write(token)\n",
        "os.chmod('/root/.kaggle/kaggle.json', 0o600)\n",
        "```\n"
      ]
    },
    {
      "cell_type": "code",
      "metadata": {},
      "execution_count": null,
      "outputs": [],
      "source": [
        "from pathlib import Path\n",
        "import sys\n",
        "sys.path.append(str(Path.cwd().parents[0]/'src'))\n",
        "from data_loader import load_creditcard\n",
        "df = load_creditcard()\n",
        "df['Class'].value_counts(normalize=True)\n"
      ]
    }
  ],
  "metadata": {
    "kernelspec": {
      "display_name": "Python 3",
      "language": "python",
      "name": "python3"
    },
    "language_info": {
      "name": "python",
      "version": "3.11"
    }
  },
  "nbformat": 4,
  "nbformat_minor": 5
}