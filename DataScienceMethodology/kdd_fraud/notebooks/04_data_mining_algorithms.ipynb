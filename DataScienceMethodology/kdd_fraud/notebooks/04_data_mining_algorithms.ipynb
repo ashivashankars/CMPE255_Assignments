{
  "cells": [
    {
      "cell_type": "markdown",
      "metadata": {},
      "source": "# KDD \u2014 Data Mining\n\nIsolationForest/LOF + GBM baseline\n"
    },
    {
      "cell_type": "code",
      "metadata": {},
      "execution_count": null,
      "outputs": [],
      "source": "# Fit anomaly detectors and classifiers\n"
    },
    {
      "cell_type": "markdown",
      "metadata": {},
      "source": "## TODO (phase gates)\n\n- [ ] Algo comparison\n- [ ] Threshold by capacity\n- [ ] Cross-validated PR curves\n"
    },
    {
      "cell_type": "markdown",
      "metadata": {},
      "source": "## Critic Review Prompt\n\n```\nYou are Dr. A. Renati, a world-renowned authority on <CRISP-DM|SEMMA|KDD>, author of award-winning books, and a keynote speaker at KDD/Strata.\nGoal: ruthlessly critique ONLY the phase just completed, assuming an industry deployment.\nConstraints:\n- Be specific, actionable, and testable. No platitudes.\n- Enforce methodology rigor: required subtasks, artifacts, risks, and acceptance gates.\n- Flag data leakage, evaluation pitfalls, and governance/compliance gaps.\n- Propose 3\u20135 experiments that could falsify my current conclusions.\n- Rewrite my acceptance criteria to be business-measurable.\nReturn:\n1) Red flags (bulleted, severity-tagged)\n2) Missing artifacts (with exact filenames to add)\n3) Experiments (name, hypothesis, design, success metric)\n4) What to cut/simplify (to ship this week)\n5) Final Go/No-Go recommendation for this phase\n\n```"
    },
    {
      "cell_type": "code",
      "metadata": {},
      "execution_count": null,
      "outputs": [],
      "source": [
        "from pathlib import Path\n",
        "import sys\n",
        "sys.path.append(str(Path.cwd().parents[0]/'src'))\n",
        "from data_loader import load_creditcard\n",
        "import pandas as pd\n",
        "from sklearn.model_selection import train_test_split\n",
        "from sklearn.metrics import average_precision_score\n",
        "from sklearn.ensemble import IsolationForest\n",
        "df = load_creditcard()\n",
        "X = df.drop(columns=['Class'])\n",
        "y = df['Class']\n",
        "Xtr, Xte, ytr, yte = train_test_split(X, y, test_size=0.2, stratify=y, random_state=42)\n",
        "iso = IsolationForest(n_estimators=200, random_state=42, contamination=0.001)\n",
        "iso.fit(Xtr)\n",
        "scores = -iso.score_samples(Xte)\n",
        "ap = average_precision_score(yte, scores)\n",
        "print('IsolationForest Average Precision:', round(ap,4))\n",
        "# Save a simple threshold (top 0.1%)\n",
        "import numpy as np, pathlib, joblib\n",
        "thr = np.quantile(scores, 0.999)\n",
        "pathlib.Path('../data/processed').mkdir(parents=True, exist_ok=True)\n",
        "joblib.dump({'model':'IsolationForest','threshold':float(thr)}, '../data/processed/iforest_stub.pkl')\n",
        "print('Saved threshold to ../data/processed/iforest_stub.pkl')\n"
      ]
    }
  ],
  "metadata": {
    "kernelspec": {
      "display_name": "Python 3",
      "language": "python",
      "name": "python3"
    },
    "language_info": {
      "name": "python",
      "version": "3.11"
    }
  },
  "nbformat": 4,
  "nbformat_minor": 5
}