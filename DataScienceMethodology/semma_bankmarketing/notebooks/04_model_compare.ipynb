{
  "cells": [
    {
      "cell_type": "markdown",
      "metadata": {},
      "source": "# SEMMA \u2014 Model\n\nTrain & compare; choose by AUC+profit\n"
    },
    {
      "cell_type": "code",
      "metadata": {},
      "execution_count": null,
      "outputs": [],
      "source": "# Logistic / Tree / GBM comparison\n"
    },
    {
      "cell_type": "markdown",
      "metadata": {},
      "source": "## TODO (phase gates)\n\n- [ ] Baselines\n- [ ] Advanced models\n- [ ] Hyperparameters logged\n"
    },
    {
      "cell_type": "markdown",
      "metadata": {},
      "source": "## Critic Review Prompt\n\n```\nYou are Dr. A. Renati, a world-renowned authority on <CRISP-DM|SEMMA|KDD>, author of award-winning books, and a keynote speaker at KDD/Strata.\nGoal: ruthlessly critique ONLY the phase just completed, assuming an industry deployment.\nConstraints:\n- Be specific, actionable, and testable. No platitudes.\n- Enforce methodology rigor: required subtasks, artifacts, risks, and acceptance gates.\n- Flag data leakage, evaluation pitfalls, and governance/compliance gaps.\n- Propose 3\u20135 experiments that could falsify my current conclusions.\n- Rewrite my acceptance criteria to be business-measurable.\nReturn:\n1) Red flags (bulleted, severity-tagged)\n2) Missing artifacts (with exact filenames to add)\n3) Experiments (name, hypothesis, design, success metric)\n4) What to cut/simplify (to ship this week)\n5) Final Go/No-Go recommendation for this phase\n\n```"
    },
    {
      "cell_type": "code",
      "metadata": {},
      "execution_count": null,
      "outputs": [],
      "source": [
        "from pathlib import Path\n",
        "import sys\n",
        "sys.path.append(str(Path.cwd().parents[0]/'src'))\n",
        "from data_loader import load_bank_data\n",
        "import pandas as pd\n",
        "from sklearn.model_selection import train_test_split\n",
        "from sklearn.metrics import roc_auc_score\n",
        "from sklearn.preprocessing import OneHotEncoder\n",
        "from sklearn.compose import ColumnTransformer\n",
        "from sklearn.pipeline import Pipeline\n",
        "from sklearn.impute import SimpleImputer\n",
        "from sklearn.linear_model import LogisticRegression\n",
        "df = load_bank_data()\n",
        "y = (df['y']=='yes').astype(int)\n",
        "X = df.drop(columns=['y'])\n",
        "cat = [c for c in X.columns if X[c].dtype=='object']\n",
        "num = [c for c in X.columns if c not in cat]\n",
        "pre = ColumnTransformer([\n",
        "  ('num', SimpleImputer(strategy='median'), num),\n",
        "  ('cat', Pipeline([('impute', SimpleImputer(strategy='most_frequent')),\n",
        "                    ('oh', OneHotEncoder(handle_unknown='ignore'))]), cat)\n",
        "])\n",
        "model = Pipeline([('pre', pre), ('clf', LogisticRegression(max_iter=300))])\n",
        "Xtr, Xte, ytr, yte = train_test_split(X, y, test_size=0.2, stratify=y, random_state=42)\n",
        "model.fit(Xtr, ytr)\n",
        "auc = roc_auc_score(yte, model.predict_proba(Xte)[:,1])\n",
        "print('Baseline logistic AUC:', round(auc,4))\n",
        "import joblib, pathlib\n",
        "pathlib.Path('../data/processed').mkdir(parents=True, exist_ok=True)\n",
        "joblib.dump(model, '../data/processed/bank_logreg.pkl')\n",
        "print('Saved model to ../data/processed/bank_logreg.pkl')\n"
      ]
    }
  ],
  "metadata": {
    "kernelspec": {
      "display_name": "Python 3",
      "language": "python",
      "name": "python3"
    },
    "language_info": {
      "name": "python",
      "version": "3.11"
    }
  },
  "nbformat": 4,
  "nbformat_minor": 5
}