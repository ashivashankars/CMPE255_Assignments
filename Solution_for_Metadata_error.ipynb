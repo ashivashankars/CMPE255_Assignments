{
  "nbformat": 4,
  "nbformat_minor": 0,
  "metadata": {
    "colab": {
      "provenance": [],
      "authorship_tag": "ABX9TyOCXmr9CMS+x3FIlUtu7Xjr",
      "include_colab_link": true
    },
    "kernelspec": {
      "name": "python3",
      "display_name": "Python 3"
    },
    "language_info": {
      "name": "python"
    }
  },
  "cells": [
    {
      "cell_type": "markdown",
      "metadata": {
        "id": "view-in-github",
        "colab_type": "text"
      },
      "source": [
        "<a href=\"https://colab.research.google.com/github/ashivashankars/CMPE255_Assignments/blob/main/Solution_for_Metadata_error.ipynb\" target=\"_parent\"><img src=\"https://colab.research.google.com/assets/colab-badge.svg\" alt=\"Open In Colab\"/></a>"
      ]
    },
    {
      "cell_type": "code",
      "execution_count": 1,
      "metadata": {
        "colab": {
          "base_uri": "https://localhost:8080/"
        },
        "id": "udZlhA2VeB2S",
        "outputId": "aa0c093a-d8c9-43b0-821d-175bc6f638fe"
      },
      "outputs": [
        {
          "output_type": "stream",
          "name": "stdout",
          "text": [
            "Wrote: Tutorial - Multiclass_Classification.ipynb\n"
          ]
        }
      ],
      "source": [
        "!pip install -q nbformat\n",
        "import nbformat as nbf\n",
        "\n",
        "in_path  = \"Multiclass_Classification.ipynb\"          # <— your uploaded file\n",
        "out_path = \"Tutorial - Multiclass_Classification.ipynb\"\n",
        "\n",
        "nb = nbf.read(in_path, as_version=4)\n",
        "\n",
        "# Remove widgets metadata at the notebook level\n",
        "nb.metadata.pop(\"widgets\", None)\n",
        "\n",
        "# Remove any cell-level widgets metadata too (belt & suspenders)\n",
        "for cell in nb.cells:\n",
        "    cell.metadata.pop(\"widgets\", None)\n",
        "\n",
        "nbf.write(nb, out_path)\n",
        "print(\"Wrote:\", out_path)\n"
      ]
    },
    {
      "cell_type": "code",
      "source": [
        "from google.colab import files\n",
        "files.download(\"Tutorial - Multiclass_Classification.ipynb\")\n"
      ],
      "metadata": {
        "id": "y_dBPD7veSHL",
        "outputId": "f99463f9-4b66-4f9a-e714-5c051444ae83",
        "colab": {
          "base_uri": "https://localhost:8080/",
          "height": 17
        }
      },
      "execution_count": 3,
      "outputs": [
        {
          "output_type": "display_data",
          "data": {
            "text/plain": [
              "<IPython.core.display.Javascript object>"
            ],
            "application/javascript": [
              "\n",
              "    async function download(id, filename, size) {\n",
              "      if (!google.colab.kernel.accessAllowed) {\n",
              "        return;\n",
              "      }\n",
              "      const div = document.createElement('div');\n",
              "      const label = document.createElement('label');\n",
              "      label.textContent = `Downloading \"${filename}\": `;\n",
              "      div.appendChild(label);\n",
              "      const progress = document.createElement('progress');\n",
              "      progress.max = size;\n",
              "      div.appendChild(progress);\n",
              "      document.body.appendChild(div);\n",
              "\n",
              "      const buffers = [];\n",
              "      let downloaded = 0;\n",
              "\n",
              "      const channel = await google.colab.kernel.comms.open(id);\n",
              "      // Send a message to notify the kernel that we're ready.\n",
              "      channel.send({})\n",
              "\n",
              "      for await (const message of channel.messages) {\n",
              "        // Send a message to notify the kernel that we're ready.\n",
              "        channel.send({})\n",
              "        if (message.buffers) {\n",
              "          for (const buffer of message.buffers) {\n",
              "            buffers.push(buffer);\n",
              "            downloaded += buffer.byteLength;\n",
              "            progress.value = downloaded;\n",
              "          }\n",
              "        }\n",
              "      }\n",
              "      const blob = new Blob(buffers, {type: 'application/binary'});\n",
              "      const a = document.createElement('a');\n",
              "      a.href = window.URL.createObjectURL(blob);\n",
              "      a.download = filename;\n",
              "      div.appendChild(a);\n",
              "      a.click();\n",
              "      div.remove();\n",
              "    }\n",
              "  "
            ]
          },
          "metadata": {}
        },
        {
          "output_type": "display_data",
          "data": {
            "text/plain": [
              "<IPython.core.display.Javascript object>"
            ],
            "application/javascript": [
              "download(\"download_ab2e7784-34a3-40ec-9b4a-1ab1fa4def81\", \"Tutorial - Multiclass_Classification.ipynb\", 1894306)"
            ]
          },
          "metadata": {}
        }
      ]
    }
  ]
}