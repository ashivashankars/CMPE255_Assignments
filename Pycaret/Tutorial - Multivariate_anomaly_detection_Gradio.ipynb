{
  "nbformat": 4,
  "nbformat_minor": 0,
  "metadata": {
    "colab": {
      "provenance": [],
      "authorship_tag": "ABX9TyMx6JY+ja2wLCM1CXZ2Ctk/",
      "include_colab_link": true
    },
    "kernelspec": {
      "name": "python3",
      "display_name": "Python 3"
    },
    "language_info": {
      "name": "python"
    }
  },
  "cells": [
    {
      "cell_type": "markdown",
      "metadata": {
        "id": "view-in-github",
        "colab_type": "text"
      },
      "source": [
        "<a href=\"https://colab.research.google.com/github/ashivashankars/CMPE255_Assignments/blob/main/tutorials/Tutorial%20-%20Multivariate_anomaly_detection_Gradio.ipynb\" target=\"_parent\"><img src=\"https://colab.research.google.com/assets/colab-badge.svg\" alt=\"Open In Colab\"/></a>"
      ]
    },
    {
      "cell_type": "markdown",
      "source": [
        "##Multivariate anomaly detection"
      ],
      "metadata": {
        "id": "qQqY6GttUs8r"
      }
    },
    {
      "cell_type": "code",
      "execution_count": 1,
      "metadata": {
        "colab": {
          "base_uri": "https://localhost:8080/"
        },
        "id": "phbvqtC6UreA",
        "outputId": "3ed96fef-0b40-4fbc-9edb-6bd6321d383c"
      },
      "outputs": [
        {
          "output_type": "stream",
          "name": "stdout",
          "text": [
            "\u001b[2K     \u001b[90m━━━━━━━━━━━━━━━━━━━━━━━━━━━━━━━━━━━━━━━━\u001b[0m \u001b[32m91.2/91.2 kB\u001b[0m \u001b[31m3.5 MB/s\u001b[0m eta \u001b[36m0:00:00\u001b[0m\n",
            "\u001b[2K   \u001b[90m━━━━━━━━━━━━━━━━━━━━━━━━━━━━━━━━━━━━━━━━\u001b[0m \u001b[32m12.4/12.4 MB\u001b[0m \u001b[31m58.5 MB/s\u001b[0m eta \u001b[36m0:00:00\u001b[0m\n",
            "\u001b[2K   \u001b[90m━━━━━━━━━━━━━━━━━━━━━━━━━━━━━━━━━━━━━━━━\u001b[0m \u001b[32m9.5/9.5 MB\u001b[0m \u001b[31m59.4 MB/s\u001b[0m eta \u001b[36m0:00:00\u001b[0m\n",
            "\u001b[?25h\u001b[31mERROR: pip's dependency resolver does not currently take into account all the packages that are installed. This behaviour is the source of the following dependency conflicts.\n",
            "google-colab 1.0.0 requires pandas==2.2.2, but you have pandas 2.3.3 which is incompatible.\n",
            "dask-cudf-cu12 25.6.0 requires pandas<2.2.4dev0,>=2.0, but you have pandas 2.3.3 which is incompatible.\n",
            "cudf-cu12 25.6.0 requires pandas<2.2.4dev0,>=2.0, but you have pandas 2.3.3 which is incompatible.\u001b[0m\u001b[31m\n",
            "\u001b[0m"
          ]
        }
      ],
      "source": [
        "!pip -q install gradio pandas scikit-learn --upgrade"
      ]
    },
    {
      "cell_type": "code",
      "source": [
        "import io\n",
        "import gradio as gr\n",
        "import pandas as pd\n",
        "from sklearn.ensemble import IsolationForest"
      ],
      "metadata": {
        "id": "4lfsSm0WU5FY"
      },
      "execution_count": 2,
      "outputs": []
    },
    {
      "cell_type": "code",
      "source": [
        "import pandas as pd\n",
        "sample = pd.DataFrame({\n",
        "    \"feature1\":[58,59,62,59,87,60,61,90],\n",
        "    \"feature2\":[77769,81799,74751,74373,17760,76000,77000,15000],\n",
        "    \"feature3\":[0.7913,0.7910,0.7026,0.7656,0.3487,0.78,0.77,0.35],\n",
        "    \"feature4\":[6559.82,5417.66,9258.99,7346.33,16869.50,7000,6900,17000]\n",
        "})\n",
        "sample.to_csv(\"/content/jewelry.csv\", index=False)\n",
        "print(\"Saved /content/jewelry.csv\")\n"
      ],
      "metadata": {
        "colab": {
          "base_uri": "https://localhost:8080/"
        },
        "id": "K4tIbuPPVHxj",
        "outputId": "5a5262f3-6fe7-47d5-96b0-ffabb2d2fd1b"
      },
      "execution_count": 3,
      "outputs": [
        {
          "output_type": "stream",
          "name": "stdout",
          "text": [
            "Saved /content/jewelry.csv\n"
          ]
        }
      ]
    },
    {
      "cell_type": "code",
      "source": [
        "def detect_anomalies(file, contamination):\n",
        "    # load CSV\n",
        "    if file is None:\n",
        "        return pd.DataFrame({\"error\":[\"Please upload a CSV\"]})\n",
        "    df = pd.read_csv(file.name)\n",
        "\n",
        "    # keep only numeric columns (common pattern)\n",
        "    num = df.select_dtypes(include=\"number\")\n",
        "    if num.empty:\n",
        "        return pd.DataFrame({\"error\":[\"No numeric columns found\"]})\n",
        "\n",
        "    # fit model\n",
        "    iso = IsolationForest(\n",
        "        n_estimators=300,\n",
        "        contamination=float(contamination),\n",
        "        random_state=42\n",
        "    )\n",
        "    labels = iso.fit_predict(num)               # -1 = anomaly, 1 = normal\n",
        "    scores = iso.decision_function(num)         # lower = more anomalous\n",
        "\n",
        "    out = df.copy()\n",
        "    out[\"anomaly\"] = (labels == -1).astype(int) # 1 = anomaly\n",
        "    out[\"anomaly_score\"] = scores\n",
        "    # sort by most anomalous first\n",
        "    out = out.sort_values(\"anomaly_score\")\n",
        "    return out"
      ],
      "metadata": {
        "id": "suOwj5g7U6Yo"
      },
      "execution_count": 4,
      "outputs": []
    },
    {
      "cell_type": "code",
      "source": [
        "with gr.Blocks(title=\"Anomaly Detector\") as app:\n",
        "    gr.Markdown(\"### CSV Anomaly Detection (Isolation Forest)\\nUpload a CSV with numeric columns.\")\n",
        "    with gr.Row():\n",
        "        file = gr.File(file_types=[\".csv\"], label=\"Upload CSV\")\n",
        "        contamination = gr.Slider(0.01, 0.2, value=0.05, step=0.01,\n",
        "                                  label=\"Contamination (expected anomaly ratio)\")\n",
        "    btn = gr.Button(\"Detect anomalies\")\n",
        "    table = gr.Dataframe(wrap=True, label=\"Results (sorted by anomaly_score)\")\n",
        "    btn.click(detect_anomalies, inputs=[file, contamination], outputs=table)\n",
        "\n",
        "app.launch(share=True)"
      ],
      "metadata": {
        "colab": {
          "base_uri": "https://localhost:8080/",
          "height": 611
        },
        "id": "_bvsLpeFVBvM",
        "outputId": "1f15dfdc-83c5-44f7-f4a7-9f519624eaa7"
      },
      "execution_count": 5,
      "outputs": [
        {
          "output_type": "stream",
          "name": "stdout",
          "text": [
            "Colab notebook detected. To show errors in colab notebook, set debug=True in launch()\n",
            "* Running on public URL: https://0620048662b17aecfa.gradio.live\n",
            "\n",
            "This share link expires in 1 week. For free permanent hosting and GPU upgrades, run `gradio deploy` from the terminal in the working directory to deploy to Hugging Face Spaces (https://huggingface.co/spaces)\n"
          ]
        },
        {
          "output_type": "display_data",
          "data": {
            "text/plain": [
              "<IPython.core.display.HTML object>"
            ],
            "text/html": [
              "<div><iframe src=\"https://0620048662b17aecfa.gradio.live\" width=\"100%\" height=\"500\" allow=\"autoplay; camera; microphone; clipboard-read; clipboard-write;\" frameborder=\"0\" allowfullscreen></iframe></div>"
            ]
          },
          "metadata": {}
        },
        {
          "output_type": "execute_result",
          "data": {
            "text/plain": []
          },
          "metadata": {},
          "execution_count": 5
        }
      ]
    }
  ]
}